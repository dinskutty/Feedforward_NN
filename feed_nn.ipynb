{
 "metadata": {
  "language_info": {
   "codemirror_mode": {
    "name": "ipython",
    "version": 3
   },
   "file_extension": ".py",
   "mimetype": "text/x-python",
   "name": "python",
   "nbconvert_exporter": "python",
   "pygments_lexer": "ipython3",
   "version": "3.8.6-final"
  },
  "orig_nbformat": 2,
  "kernelspec": {
   "name": "python386jvsc74a57bd0515f0014b05aeb07f1783645524af99167d24666a673ce4bc1802b9da03adacf",
   "display_name": "Python 3.8.6 64-bit"
  },
  "metadata": {
   "interpreter": {
    "hash": "515f0014b05aeb07f1783645524af99167d24666a673ce4bc1802b9da03adacf"
   }
  }
 },
 "nbformat": 4,
 "nbformat_minor": 2,
 "cells": [
  {
   "cell_type": "code",
   "execution_count": 1,
   "metadata": {},
   "outputs": [],
   "source": [
    "import torch\n",
    "import torch.nn as nn\n",
    "import torchvision.transforms as transforms\n",
    "import torchvision.datasets as dsets"
   ]
  },
  {
   "source": [
    "# LOADING DATASET"
   ],
   "cell_type": "markdown",
   "metadata": {}
  },
  {
   "cell_type": "code",
   "execution_count": 2,
   "metadata": {},
   "outputs": [],
   "source": [
    "train_dataset = dsets.MNIST(root='./data',train=True, transform=transforms.ToTensor(),download=True)\n",
    "\n",
    "test_dataset = dsets.MNIST(root='./data',train=False, transform=transforms.ToTensor(),download=True)"
   ]
  },
  {
   "source": [
    "# MAKING DATASET ITERABLE"
   ],
   "cell_type": "markdown",
   "metadata": {}
  },
  {
   "cell_type": "code",
   "execution_count": 3,
   "metadata": {},
   "outputs": [],
   "source": [
    "batch_size = 100\n",
    "n_iters = 3000\n",
    "num_epochs = n_iters / (len(train_dataset) / batch_size)\n",
    "num_epochs = int(num_epochs)"
   ]
  },
  {
   "cell_type": "code",
   "execution_count": 4,
   "metadata": {},
   "outputs": [
    {
     "output_type": "stream",
     "name": "stdout",
     "text": [
      "5\n"
     ]
    }
   ],
   "source": [
    "print(num_epochs)"
   ]
  },
  {
   "cell_type": "code",
   "execution_count": 5,
   "metadata": {},
   "outputs": [],
   "source": [
    "train_loader = torch.utils.data.DataLoader(dataset=train_dataset,batch_size=batch_size,shuffle=True)\n",
    "test_loader = torch.utils.data.DataLoader(dataset=test_dataset,batch_size=batch_size,shuffle=False)"
   ]
  },
  {
   "source": [
    "# CREATE MODEL CLASS"
   ],
   "cell_type": "markdown",
   "metadata": {}
  },
  {
   "cell_type": "code",
   "execution_count": 6,
   "metadata": {},
   "outputs": [],
   "source": [
    "class Feedforward_NN(nn.Module):\n",
    "    def __init__(self, input_dim, hidden_dim, output_dim):\n",
    "        super(Feedforward_NN, self).__init__()\n",
    "        # Linear function 1: 784 --> 100\n",
    "        self.fc1 = nn.Linear(input_dim, hidden_dim) \n",
    "        # Non-linearity 1\n",
    "        self.relu1 = nn.ReLU()\n",
    "\n",
    "        # Linear function 2: 100 --> 100\n",
    "        self.fc2 = nn.Linear(hidden_dim, hidden_dim)\n",
    "        # Non-linearity 2\n",
    "        self.relu2 = nn.ReLU()\n",
    "\n",
    "        # Linear function 3: 100 --> 100\n",
    "        self.fc3 = nn.Linear(hidden_dim, hidden_dim)\n",
    "        # Non-linearity 3\n",
    "        self.relu3 = nn.ReLU()\n",
    "\n",
    "        # Linear function 4 (readout): 100 --> 10\n",
    "        self.fc4 = nn.Linear(hidden_dim, output_dim)  \n",
    "\n",
    "    def forward(self, x):\n",
    "        # Linear function 1\n",
    "        out = self.fc1(x)\n",
    "        # Non-linearity 1\n",
    "        out = self.relu1(out)\n",
    "\n",
    "        # Linear function 2\n",
    "        out = self.fc2(out)\n",
    "        # Non-linearity 2\n",
    "        out = self.relu2(out)\n",
    "\n",
    "        # Linear function 2\n",
    "        out = self.fc3(out)\n",
    "        # Non-linearity 2\n",
    "        out = self.relu3(out)\n",
    "\n",
    "        # Linear function 4 (readout)\n",
    "        out = self.fc4(out)\n",
    "        return out"
   ]
  },
  {
   "source": [
    "# INSTANTIATE MODEL CLASS"
   ],
   "cell_type": "markdown",
   "metadata": {}
  },
  {
   "cell_type": "code",
   "execution_count": 7,
   "metadata": {},
   "outputs": [],
   "source": [
    "input_dim = 784\n",
    "hidden_dim = 100\n",
    "output_dim = 10\n",
    "\n",
    "model = Feedforward_NN(input_dim, hidden_dim, output_dim)"
   ]
  },
  {
   "source": [
    "# INSTANTIATE LOSS & OPTIMIZER CLASS"
   ],
   "cell_type": "markdown",
   "metadata": {}
  },
  {
   "cell_type": "code",
   "execution_count": 8,
   "metadata": {},
   "outputs": [],
   "source": [
    "criterion = nn.CrossEntropyLoss()\n",
    "\n",
    "learning_rate = 0.1\n",
    "\n",
    "optimizer = torch.optim.SGD(model.parameters(), lr=learning_rate)"
   ]
  },
  {
   "source": [
    "# TRAIN THE MODEL"
   ],
   "cell_type": "markdown",
   "metadata": {}
  },
  {
   "cell_type": "code",
   "execution_count": 9,
   "metadata": {},
   "outputs": [
    {
     "output_type": "stream",
     "name": "stdout",
     "text": [
      "Iteration: 100. Loss: 1.7863355875015259. Accuracy: 48.349998474121094\n",
      "Iteration: 200. Loss: 0.686348557472229. Accuracy: 82.30000305175781\n",
      "Iteration: 300. Loss: 0.5043839812278748. Accuracy: 86.37000274658203\n",
      "Iteration: 400. Loss: 0.401513934135437. Accuracy: 88.95999908447266\n",
      "Iteration: 500. Loss: 0.2960836887359619. Accuracy: 91.36000061035156\n",
      "Iteration: 600. Loss: 0.28928419947624207. Accuracy: 90.87999725341797\n",
      "Iteration: 700. Loss: 0.26141414046287537. Accuracy: 93.0\n",
      "Iteration: 800. Loss: 0.2876971960067749. Accuracy: 93.26000213623047\n",
      "Iteration: 900. Loss: 0.23296776413917542. Accuracy: 93.68000030517578\n",
      "Iteration: 1000. Loss: 0.12800857424736023. Accuracy: 94.06999969482422\n",
      "Iteration: 1100. Loss: 0.19017302989959717. Accuracy: 94.4000015258789\n",
      "Iteration: 1200. Loss: 0.1466958075761795. Accuracy: 94.87999725341797\n",
      "Iteration: 1300. Loss: 0.15967686474323273. Accuracy: 95.0999984741211\n",
      "Iteration: 1400. Loss: 0.22566215693950653. Accuracy: 94.87000274658203\n",
      "Iteration: 1500. Loss: 0.19762678444385529. Accuracy: 95.3499984741211\n",
      "Iteration: 1600. Loss: 0.1950448453426361. Accuracy: 95.56999969482422\n",
      "Iteration: 1700. Loss: 0.14644353091716766. Accuracy: 95.05999755859375\n",
      "Iteration: 1800. Loss: 0.13237625360488892. Accuracy: 96.13999938964844\n",
      "Iteration: 1900. Loss: 0.19573646783828735. Accuracy: 95.41000366210938\n",
      "Iteration: 2000. Loss: 0.07354564964771271. Accuracy: 96.48999786376953\n",
      "Iteration: 2100. Loss: 0.05648172274231911. Accuracy: 96.22000122070312\n",
      "Iteration: 2200. Loss: 0.3612537384033203. Accuracy: 94.36000061035156\n",
      "Iteration: 2300. Loss: 0.117116779088974. Accuracy: 96.54000091552734\n",
      "Iteration: 2400. Loss: 0.09458713233470917. Accuracy: 96.26000213623047\n",
      "Iteration: 2500. Loss: 0.06828654557466507. Accuracy: 96.79000091552734\n",
      "Iteration: 2600. Loss: 0.14317160844802856. Accuracy: 96.16999816894531\n",
      "Iteration: 2700. Loss: 0.052231959998607635. Accuracy: 96.69999694824219\n",
      "Iteration: 2800. Loss: 0.21748799085617065. Accuracy: 96.80999755859375\n",
      "Iteration: 2900. Loss: 0.25904732942581177. Accuracy: 96.2300033569336\n",
      "Iteration: 3000. Loss: 0.19343511760234833. Accuracy: 96.69999694824219\n"
     ]
    }
   ],
   "source": [
    "iter = 0\n",
    "for epoch in range(num_epochs):\n",
    "    for i, (images, labels) in enumerate(train_loader):\n",
    "        # Load images with gradient accumulation capabilities\n",
    "        images = images.view(-1, 784).requires_grad_()\n",
    "        labels = labels\n",
    "\n",
    "        # Clear gradients w.r.t. parameters\n",
    "        optimizer.zero_grad()\n",
    "\n",
    "        # Forward pass to get output/logits\n",
    "        outputs = model(images)\n",
    "\n",
    "        # Calculate Loss: softmax --> cross entropy loss\n",
    "        loss = criterion(outputs, labels)\n",
    "\n",
    "        # Getting gradients w.r.t. parameters\n",
    "        loss.backward()\n",
    "\n",
    "        # Updating parameters\n",
    "        optimizer.step()\n",
    "\n",
    "        iter += 1\n",
    "\n",
    "        if iter % 100 == 0:\n",
    "            # Calculate Accuracy         \n",
    "            correct = 0\n",
    "            total = 0\n",
    "            # Iterate through test dataset\n",
    "            for images, labels in test_loader:\n",
    "                # Load images with gradient accumulation capabilities\n",
    "                images = images.view(-1, 784).requires_grad_()\n",
    "\n",
    "                # Forward pass only to get logits/output\n",
    "                outputs = model(images)\n",
    "\n",
    "                # Get predictions from the maximum value\n",
    "                _, predicted = torch.max(outputs.data, 1)\n",
    "\n",
    "                # Total number of labels\n",
    "                total += labels.size(0)\n",
    "\n",
    "                # Total correct predictions\n",
    "                correct += (predicted == labels).sum()\n",
    "\n",
    "            accuracy = 100 * correct / total\n",
    "\n",
    "            # Print Loss\n",
    "            print('Iteration: {}. Loss: {}. Accuracy: {}'.format(iter, loss.item(), accuracy))"
   ]
  }
 ]
}